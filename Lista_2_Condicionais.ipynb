{
  "cells": [
    {
      "cell_type": "markdown",
      "metadata": {
        "id": "view-in-github",
        "colab_type": "text"
      },
      "source": [
        "<a href=\"https://colab.research.google.com/github/SarahSouzaPontes/Residencia_de_Dados_Cubos_Condicionais_Python/blob/main/Lista_2_Condicionais.ipynb\" target=\"_parent\"><img src=\"https://colab.research.google.com/assets/colab-badge.svg\" alt=\"Open In Colab\"/></a>"
      ]
    },
    {
      "cell_type": "markdown",
      "metadata": {
        "id": "UaW-6YzPvIPr"
      },
      "source": [
        "# Exercício - Condicionais"
      ]
    },
    {
      "cell_type": "markdown",
      "metadata": {
        "id": "Np9Sw3YSuudZ"
      },
      "source": [
        "## Exercício 1\n",
        "\n",
        "\n",
        "1.   Declare as variáveis numéricas A, B e C\n",
        "2.   Faça a soma de A e B\n",
        "3.   Imprima na tela se a soma de A e B é maior que C\n",
        "\n",
        "\n",
        "---\n",
        "\n",
        "\n",
        "Altere os valores de A, B e C e veja como os resultados mudam\n",
        "\n",
        "\n"
      ]
    },
    {
      "cell_type": "code",
      "execution_count": null,
      "metadata": {
        "colab": {
          "base_uri": "https://localhost:8080/"
        },
        "id": "sB5A0V4jurA2",
        "outputId": "abfa49e3-5822-4c4c-b78b-55a2a167ba4c"
      },
      "outputs": [
        {
          "output_type": "stream",
          "name": "stdout",
          "text": [
            "A soma é maior que C\n"
          ]
        }
      ],
      "source": [
        "# Resolução:\n",
        "A= 2\n",
        "B=2\n",
        "C=3\n",
        "\n",
        "if (A + B) > C:\n",
        "    print(\"A soma é maior que C\")"
      ]
    },
    {
      "cell_type": "markdown",
      "metadata": {
        "id": "pQolCApovOMU"
      },
      "source": [
        "## Exercício 2\n",
        "\n",
        "1.  Declare uma variável numérica A\n",
        "2.  Retorne “PAR” caso A seja par, e “ÍMPAR” caso A seja ímpar\n",
        "\n",
        "\n",
        "---\n",
        "\n",
        "\n",
        "Altere o valor de A e veja  como o resultado muda\n"
      ]
    },
    {
      "cell_type": "code",
      "execution_count": null,
      "metadata": {
        "colab": {
          "base_uri": "https://localhost:8080/"
        },
        "id": "WCvnV4XevWdp",
        "outputId": "0ce19682-c631-41b1-ee14-1f3f1f7dd8e9"
      },
      "outputs": [
        {
          "output_type": "stream",
          "name": "stdout",
          "text": [
            "PAR\n"
          ]
        }
      ],
      "source": [
        "# Resolução:\n",
        "A = 2\n",
        "if (A%2) == 0:\n",
        "    print(\"PAR\")\n",
        "else:\n",
        "    print(\"ÍMPAR\")"
      ]
    },
    {
      "cell_type": "markdown",
      "metadata": {
        "id": "UtvX5nHmvYhC"
      },
      "source": [
        "## Exercício 3\n",
        "\n",
        "Escreva um algoritmo que leia três valores inteiros e diferentes e mostre-os em ordem decrescente. \n"
      ]
    },
    {
      "cell_type": "code",
      "execution_count": null,
      "metadata": {
        "colab": {
          "base_uri": "https://localhost:8080/"
        },
        "id": "K43NIllw59DA",
        "outputId": "44ba6dc5-d954-4b2b-93db-ad43121ee789"
      },
      "outputs": [
        {
          "output_type": "stream",
          "name": "stdout",
          "text": [
            "[1000, 100, 50]\n"
          ]
        }
      ],
      "source": [
        "# Resolução:\n",
        "numbers = [1000, 100, 50]\n",
        "numbers_reverse = sorted(numbers, reverse = True)\n",
        "print(numbers_reverse)"
      ]
    },
    {
      "cell_type": "markdown",
      "metadata": {
        "id": "g8mceg5i8HWR"
      },
      "source": [
        "# Exercício 4\n",
        "\n",
        "Os valores máximos aceitáveis de colesterol variam de acordo com características individuais.\n",
        "Sabe-se que idosos, fumantes e cardiopatas devem manter seu colesterol LDL abaixo de 70, já pacientes sem nenhuma doença devem manter o colesterol abaixo de 130.\n",
        "\n",
        "Crie um código que recebe a informação se a pessoa é idosa, fumante ou cardiopata, seu nível de colesterol e retorne **“SAUDÁVEL”** caso os níveis estejam dentro do recomendado ou **“NÃO SAUDÁVEL”**.\n"
      ]
    },
    {
      "cell_type": "code",
      "execution_count": null,
      "metadata": {
        "id": "662LimuZ8dGH",
        "colab": {
          "base_uri": "https://localhost:8080/"
        },
        "outputId": "c6277673-432e-42b7-c0d9-27569f7ebaf2"
      },
      "outputs": [
        {
          "output_type": "stream",
          "name": "stdout",
          "text": [
            "Não Saúdável\n"
          ]
        }
      ],
      "source": [
        "# Resolução:\n",
        "idosa = True\n",
        "fumante_cardiopata = True\n",
        "LDL = 130\n",
        "\n",
        "if idosa or fumante_cardiopata:\n",
        "  #se a pessoa for fumante ou idosa\n",
        "  if LDL <= 70:\n",
        "    print(\"Saudável\")\n",
        "  else:\n",
        "    print(\"Não Saúdável\")\n",
        "else:\n",
        "  #se a pessoa for não fumante ou não idosa\n",
        "  if LDL <= 130:\n",
        "    print(\"Saudável\")\n",
        "  else:\n",
        "    print(\"Não Saúdável\")"
      ]
    },
    {
      "cell_type": "code",
      "source": [
        "def colesterol (idosa, fumante_cardiopata, LDL):\n",
        "  if idosa or fumante_cardiopata:\n",
        "    #se a pessoa for fumante ou idosa\n",
        "    if LDL <= 70:\n",
        "      print(\"Saudável\")\n",
        "    else:\n",
        "      print(\"Não Saúdável\")\n",
        "  else:\n",
        "    #se a pessoa for não fumante ou não idosa\n",
        "    if LDL <= 130:\n",
        "      print(\"Saudável\")\n",
        "    else:\n",
        "      print(\"Não Saúdável\")\n",
        "  \n",
        "colesterol(True, True, 200)"
      ],
      "metadata": {
        "colab": {
          "base_uri": "https://localhost:8080/"
        },
        "id": "Ixul84nf0_FC",
        "outputId": "9d634487-c159-49ea-93fd-c24f308d0e4e"
      },
      "execution_count": null,
      "outputs": [
        {
          "output_type": "stream",
          "name": "stdout",
          "text": [
            "Não Saúdável\n"
          ]
        }
      ]
    }
  ],
  "metadata": {
    "colab": {
      "provenance": [],
      "include_colab_link": true
    },
    "kernelspec": {
      "display_name": "Python 3",
      "name": "python3"
    },
    "language_info": {
      "name": "python"
    }
  },
  "nbformat": 4,
  "nbformat_minor": 0
}